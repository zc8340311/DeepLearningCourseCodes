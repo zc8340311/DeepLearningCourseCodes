{
 "cells": [
  {
   "cell_type": "code",
   "execution_count": 1,
   "metadata": {
    "collapsed": true
   },
   "outputs": [],
   "source": [
    "%matplotlib inline"
   ]
  },
  {
   "cell_type": "code",
   "execution_count": 2,
   "metadata": {
    "collapsed": true
   },
   "outputs": [],
   "source": [
    "import torch\n",
    "import torchvision\n",
    "import numpy as np\n",
    "import matplotlib.pyplot as plt\n",
    "\n",
    "import time"
   ]
  },
  {
   "cell_type": "code",
   "execution_count": 3,
   "metadata": {
    "collapsed": true
   },
   "outputs": [],
   "source": [
    "def imshow(img):\n",
    "    npimg = img.numpy()\n",
    "    plt.imshow(np.transpose(npimg, (1, 2, 0)))"
   ]
  },
  {
   "cell_type": "code",
   "execution_count": 4,
   "metadata": {
    "collapsed": true
   },
   "outputs": [],
   "source": [
    "# super parameters\n",
    "batch_size = 10\n",
    "train_set_size = 10000\n",
    "img_size = 28*28"
   ]
  },
  {
   "cell_type": "code",
   "execution_count": 5,
   "metadata": {
    "collapsed": true
   },
   "outputs": [],
   "source": [
    "# data preperation\n",
    "root = './datasets/'\n",
    "download = False\n",
    "transform = torchvision.transforms.ToTensor()\n",
    "train_set = torchvision.datasets.MNIST(root,train = True,download=download, transform = transform)\n",
    "test_set = torchvision.datasets.MNIST(root,train = False,download=download, transform = transform)\n",
    "\n",
    "train_loader = torch.utils.data.DataLoader(train_set, batch_size=train_set_size) # load everything\n",
    "test_loader = torch.utils.data.DataLoader(test_set, batch_size=batch_size)"
   ]
  },
  {
   "cell_type": "code",
   "execution_count": 6,
   "metadata": {
    "collapsed": true
   },
   "outputs": [],
   "source": [
    "class Net(torch.nn.Module):\n",
    "    def __init__(self, train):\n",
    "        super(Net,self).__init__()\n",
    "        self.train_images, self.train_labels = train\n",
    "        self.train_images = (self.train_images.numpy()\n",
    "                                ).reshape([train_set_size,img_size])\n",
    "        #self.train_labels = np.array(self.train_labels.numpy(),dtype=\"int8\")\n",
    "        \n",
    "    def forward(self,imgs):\n",
    "        imgs = imgs.numpy().reshape([batch_size,img_size])\n",
    "        predict_labels = np.zeros(batch_size)\n",
    "        for i, img in enumerate(imgs):\n",
    "            diffs = abs((img - self.train_images)).sum(1)\n",
    "            predict_labels[i] = self.train_labels[np.argmin(diffs)]\n",
    "        return predict_labels\n",
    "\n",
    "\n",
    "# the training is built-in the model initialization\n",
    "net = Net(iter(train_loader).next())"
   ]
  },
  {
   "cell_type": "code",
   "execution_count": 7,
   "metadata": {},
   "outputs": [
    {
     "name": "stdout",
     "output_type": "stream",
     "text": [
      "Actual number:  [7 2 1 0 4 1 4 9 5 9]\n",
      "Predict number:  [7 2 1 0 9 1 9 9 5 9]\n",
      "Accuracy: 80.000000%\n"
     ]
    },
    {
     "data": {
      "image/png": "[encoded data removed]",
      "text/plain": [
       "<matplotlib.figure.Figure at 0x7f36c42530f0>"
      ]
     },
     "metadata": {},
     "output_type": "display_data"
    }
   ],
   "source": [
    "# Prediction Demo: one step\n",
    "count = batch_size\n",
    "correct = 0\n",
    "\n",
    "testiter = iter(test_loader)\n",
    "test_imgs, test_label = testiter.next()\n",
    "test_label = test_label.numpy()\n",
    "\n",
    "out_label = net(test_imgs)\n",
    "out_label = np.array(out_label,dtype=\"int8\")\n",
    "\n",
    "correct = (out_label==test_label).sum()\n",
    "\n",
    "\n",
    "imgs = torchvision.utils.make_grid(torch.Tensor(test_imgs),nrow=10)\n",
    "imshow(imgs)\n",
    "\n",
    "print(\"Actual number: \", test_label)\n",
    "print(\"Predict number: \", out_label)\n",
    "print(\"Accuracy: {:2%}\".format(correct/count))"
   ]
  },
  {
   "cell_type": "code",
   "execution_count": 8,
   "metadata": {},
   "outputs": [
    {
     "name": "stdout",
     "output_type": "stream",
     "text": [
      "Done!\n",
      "Spend 76 s\n",
      "93.670000%\n"
     ]
    }
   ],
   "source": [
    "# Model evaluation\n",
    "tic = time.time()\n",
    "count = 0\n",
    "correct = 0\n",
    "for data in test_loader:\n",
    "    test_imgs, test_label = data\n",
    "    test_label = test_label.numpy()\n",
    "    \n",
    "    out_label = net(test_imgs)\n",
    "    \n",
    "    count = count + batch_size\n",
    "    correct = correct + (out_label==test_label).sum()\n",
    "\n",
    "print(\"Done!\")\n",
    "print(\"Duration: {}s\".format(round(time.time()-tic)))\n",
    "print(\"Accuracy: {:2%}\".format(correct/count))"
   ]
  }
 ],
 "metadata": {
  "kernelspec": {
   "display_name": "Python3.5_pytorch0.2",
   "language": "python",
   "name": "python3.5_pytorch0.2"
  },
  "language_info": {
   "codemirror_mode": {
    "name": "ipython",
    "version": 3
   },
   "file_extension": ".py",
   "mimetype": "text/x-python",
   "name": "python",
   "nbconvert_exporter": "python",
   "pygments_lexer": "ipython3",
   "version": "3.5.4"
  }
 },
 "nbformat": 4,
 "nbformat_minor": 2
}
